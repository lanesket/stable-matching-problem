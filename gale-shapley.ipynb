{
 "cells": [
  {
   "cell_type": "code",
   "execution_count": 1,
   "metadata": {},
   "outputs": [],
   "source": [
    "from Person import Person\n",
    "import random"
   ]
  },
  {
   "cell_type": "code",
   "execution_count": 2,
   "metadata": {},
   "outputs": [],
   "source": [
    "m_list, w_list = [], []\n",
    "w_m_count = 4\n",
    "\n",
    "# Creation of the man and woman objects\n",
    "for i in range(w_m_count):\n",
    "    m_list.append(Person(f\"m{i + 1}\"))\n",
    "    w_list.append(Person(f\"w{i + 1}\"))\n",
    "\n",
    "# Random Initialization of their preferences lists\n",
    "for m in m_list:\n",
    "    m.preferences = [w_list[k] for k in random.sample(range(0, w_m_count), w_m_count)]\n",
    "\n",
    "for w in w_list:\n",
    "    w.preferences = [m_list[k] for k in random.sample(range(0, w_m_count), w_m_count)]\n",
    "\n",
    "# Reference solution \n",
    "# m1 : w3\n",
    "# m2 : w4\n",
    "# m3 : w1\n",
    "# m4 : w2\n",
    "# m_list[0].preferences = [w_list[0], w_list[1], w_list[2], w_list[3]]\n",
    "# m_list[1].preferences = [w_list[0], w_list[3], w_list[2], w_list[1]]\n",
    "# m_list[2].preferences = [w_list[1], w_list[0], w_list[2], w_list[3]]\n",
    "# m_list[3].preferences = [w_list[3], w_list[1], w_list[2], w_list[0]]\n",
    "\n",
    "# w_list[0].preferences = [m_list[3], m_list[2], m_list[0], m_list[1]]\n",
    "# w_list[1].preferences = [m_list[1], m_list[3], m_list[0], m_list[2]]\n",
    "# w_list[2].preferences = [m_list[3], m_list[0], m_list[1], m_list[2]]\n",
    "# w_list[3].preferences = [m_list[2], m_list[1], m_list[0], m_list[3]]"
   ]
  },
  {
   "cell_type": "markdown",
   "metadata": {},
   "source": [
    "## Gale-Shapley algorithm implementation"
   ]
  },
  {
   "cell_type": "code",
   "execution_count": 3,
   "metadata": {
    "tags": []
   },
   "outputs": [
    {
     "name": "stdout",
     "output_type": "stream",
     "text": [
      "Stable pairs:\n",
      "m1 <-> w1\n",
      "m2 <-> w3\n",
      "m3 <-> w4\n",
      "m4 <-> w2\n"
     ]
    }
   ],
   "source": [
    "m = Person.still_free_man(m_list, w_m_count)\n",
    "while m:\n",
    "    if m.preferences:\n",
    "        w = m.preferences.pop(0)\n",
    "        \n",
    "    other_m = w.engaged_with()\n",
    "    if w.is_free:\n",
    "        m.start_relationship(w)\n",
    "    elif other_m and m is not other_m:\n",
    "        if w.preferences.index(m) < w.preferences.index(other_m):\n",
    "            other_m.is_free = True\n",
    "            m.start_relationship(w)\n",
    "    \n",
    "    m = Person.still_free_man(m_list, w_m_count)\n",
    "\n",
    "print(f\"Stable pairs:\")\n",
    "for m in m_list:\n",
    "    if m.engaged_with():\n",
    "        print(f\"{m.name} <-> {m.engaged_with().name}\")"
   ]
  },
  {
   "cell_type": "code",
   "execution_count": null,
   "metadata": {},
   "outputs": [],
   "source": []
  }
 ],
 "metadata": {
  "kernelspec": {
   "display_name": "Python 3",
   "language": "python",
   "name": "python3"
  },
  "language_info": {
   "codemirror_mode": {
    "name": "ipython",
    "version": 3
   },
   "file_extension": ".py",
   "mimetype": "text/x-python",
   "name": "python",
   "nbconvert_exporter": "python",
   "pygments_lexer": "ipython3",
   "version": "3.7.4"
  }
 },
 "nbformat": 4,
 "nbformat_minor": 4
}
