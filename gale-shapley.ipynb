{
 "cells": [
  {
   "cell_type": "code",
   "execution_count": 1,
   "metadata": {},
   "outputs": [],
   "source": [
    "from __future__ import annotations\n",
    "from typing import List\n",
    "import random"
   ]
  },
  {
   "cell_type": "code",
   "execution_count": 2,
   "metadata": {},
   "outputs": [],
   "source": [
    "class Person:\n",
    "    def __init__(self, name, preferences = []):\n",
    "        self.name = name\n",
    "        self.is_free = True\n",
    "        self.relationships = []\n",
    "        self.preferences = preferences\n",
    "\n",
    "    def start_relationship(self, p: Person) -> None:\n",
    "        self.is_free = False\n",
    "        p.is_free = False\n",
    "\n",
    "        self.relationships.append(p)\n",
    "        p.relationships.append(self)\n",
    "\n",
    "    def engaged_with(self) -> Person | None:\n",
    "        \"\"\" \n",
    "            Current relationship with\n",
    "        \"\"\"\n",
    "        if not len(self.relationships):\n",
    "            return None\n",
    "        if self.is_free:\n",
    "            return None\n",
    "        else:\n",
    "            return self.relationships[-1]"
   ]
  },
  {
   "cell_type": "code",
   "execution_count": 3,
   "metadata": {},
   "outputs": [],
   "source": [
    "m_list, w_list = [], []\n",
    "w_m_count = 4\n",
    "\n",
    "# Creation of the man and woman objects\n",
    "for i in range(w_m_count):\n",
    "    m_list.append(Person(f\"m{i + 1}\"))\n",
    "    \n",
    "for i in range(w_m_count):\n",
    "    w_list.append(Person(f\"w{i + 1}\"))\n",
    "\n",
    "# Random Initialization of the preferences lists\n",
    "for m in m_list:\n",
    "    m.preferences = [w_list[k] for k in random.sample(range(0, w_m_count), w_m_count)]\n",
    "\n",
    "for w in w_list:\n",
    "    w.preferences = [m_list[k] for k in random.sample(range(0, w_m_count), w_m_count)]\n",
    "\n",
    "# Reference solution \n",
    "# m1 : w3\n",
    "# m2 : w4\n",
    "# m3 : w1\n",
    "# m4 : w2\n",
    "# m_list[0].preferences = [w_list[0], w_list[1], w_list[2], w_list[3]]\n",
    "# m_list[1].preferences = [w_list[0], w_list[3], w_list[2], w_list[1]]\n",
    "# m_list[2].preferences = [w_list[1], w_list[0], w_list[2], w_list[3]]\n",
    "# m_list[3].preferences = [w_list[3], w_list[1], w_list[2], w_list[0]]\n",
    "\n",
    "# w_list[0].preferences = [m_list[3], m_list[2], m_list[0], m_list[1]]\n",
    "# w_list[1].preferences = [m_list[1], m_list[3], m_list[0], m_list[2]]\n",
    "# w_list[2].preferences = [m_list[3], m_list[0], m_list[1], m_list[2]]\n",
    "# w_list[3].preferences = [m_list[2], m_list[1], m_list[0], m_list[3]]"
   ]
  },
  {
   "cell_type": "code",
   "execution_count": 4,
   "metadata": {},
   "outputs": [],
   "source": [
    "def still_free_man(m_list: List, w_m_count: int) -> bool:\n",
    "    for m in m_list:\n",
    "        if m.is_free and len(m.relationships) < w_m_count and len(m.preferences):\n",
    "            return m\n",
    "    return None"
   ]
  },
  {
   "cell_type": "code",
   "execution_count": 5,
   "metadata": {
    "tags": []
   },
   "outputs": [
    {
     "output_type": "stream",
     "name": "stdout",
     "text": "Stable pairs:\nm1 <-> w1\nm2 <-> w2\nm3 <-> w3\nm4 <-> w4\n"
    }
   ],
   "source": [
    "# Gale-Shapley algorithm implementation\n",
    "\n",
    "m = still_free_man(m_list, w_m_count)\n",
    "while m:\n",
    "    if m.preferences:\n",
    "        w = m.preferences.pop(0)\n",
    "        \n",
    "    other_m = w.engaged_with()\n",
    "    if w.is_free:\n",
    "        m.start_relationship(w)\n",
    "    elif other_m and m is not other_m:\n",
    "        if w.preferences.index(m) < w.preferences.index(other_m):\n",
    "            other_m.is_free = True\n",
    "            m.start_relationship(w)\n",
    "    \n",
    "    m = still_free_man(m_list, w_m_count)\n",
    "\n",
    "print(f\"Stable pairs:\")\n",
    "for m in m_list:\n",
    "    if m.engaged_with():\n",
    "        print(f\"{m.name} <-> {m.engaged_with().name}\")"
   ]
  },
  {
   "cell_type": "code",
   "execution_count": null,
   "metadata": {},
   "outputs": [],
   "source": []
  }
 ],
 "metadata": {
  "kernelspec": {
   "display_name": "Python 3",
   "language": "python",
   "name": "python3"
  },
  "language_info": {
   "codemirror_mode": {
    "name": "ipython",
    "version": 3
   },
   "file_extension": ".py",
   "mimetype": "text/x-python",
   "name": "python",
   "nbconvert_exporter": "python",
   "pygments_lexer": "ipython3",
   "version": "3.7.4-final"
  }
 },
 "nbformat": 4,
 "nbformat_minor": 4
}